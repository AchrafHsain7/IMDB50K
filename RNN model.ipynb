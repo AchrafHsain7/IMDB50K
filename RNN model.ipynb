{
 "cells": [
  {
   "cell_type": "code",
   "execution_count": 26,
   "metadata": {},
   "outputs": [],
   "source": [
    "import numpy as np \n",
    "import matplotlib.pyplot as plt \n",
    "import keras.layers as kl\n",
    "import keras.optimizers as kopt\n",
    "import keras.losses as kloss\n",
    "from keras.models import Model\n",
    "from sklearn.metrics import f1_score, precision_score, recall_score\n",
    "from sklearn.metrics import ConfusionMatrixDisplay, confusion_matrix\n",
    "import gc"
   ]
  },
  {
   "cell_type": "markdown",
   "metadata": {},
   "source": [
    "# The RNN model implementation "
   ]
  },
  {
   "cell_type": "code",
   "execution_count": 27,
   "metadata": {},
   "outputs": [],
   "source": [
    "#loading the Training Data\n",
    "X_train = np.load(\"X_train.npy\")\n",
    "Y_train = np.load(\"Y_train.npy\")"
   ]
  },
  {
   "cell_type": "code",
   "execution_count": 28,
   "metadata": {},
   "outputs": [
    {
     "name": "stdout",
     "output_type": "stream",
     "text": [
      "(8309, 100, 64)\n",
      "(8309, 1)\n"
     ]
    }
   ],
   "source": [
    "Y_train = Y_train.reshape((Y_train.shape[0], 1))\n",
    "print(X_train.shape)\n",
    "print(Y_train.shape)"
   ]
  },
  {
   "cell_type": "code",
   "execution_count": 29,
   "metadata": {},
   "outputs": [],
   "source": [
    "#get subset for testinh\n",
    "subset = 5000\n",
    "X_train = X_train[:subset]\n",
    "Y_train = Y_train[:subset]"
   ]
  },
  {
   "cell_type": "code",
   "execution_count": 30,
   "metadata": {},
   "outputs": [],
   "source": [
    "#loading the Evaluation Data\n",
    "X_eval = np.load(\"X_eval.npy\")\n",
    "Y_eval = np.load(\"Y_eval.npy\")"
   ]
  },
  {
   "cell_type": "code",
   "execution_count": 31,
   "metadata": {},
   "outputs": [
    {
     "name": "stdout",
     "output_type": "stream",
     "text": [
      "(1039, 100, 64)\n",
      "(1039, 1)\n"
     ]
    }
   ],
   "source": [
    "Y_eval = Y_eval.reshape((Y_eval.shape[0], 1))\n",
    "print(X_eval.shape)\n",
    "print(Y_eval.shape)"
   ]
  },
  {
   "cell_type": "markdown",
   "metadata": {},
   "source": [
    "## Creating a simple RNN model"
   ]
  },
  {
   "cell_type": "code",
   "execution_count": 39,
   "metadata": {},
   "outputs": [],
   "source": [
    "#creating simple RNN model\n",
    "def create_simple_rnn(input_shape):\n",
    "    \n",
    "    inputs = kl.Input(input_shape)\n",
    "    rnn = kl.SimpleRNN(units=2048, activation=\"tanh\", return_sequences=False)(inputs)\n",
    "    dense1 = kl.Dense(units=512, activation=\"relu\")(rnn)\n",
    "    outputs =kl.Dense(units=1, activation=\"sigmoid\")(dense1)\n",
    "\n",
    "    model = Model(inputs=inputs, outputs=outputs)\n",
    "\n",
    "    return model"
   ]
  },
  {
   "cell_type": "code",
   "execution_count": 33,
   "metadata": {},
   "outputs": [],
   "source": [
    "def create_simple_deep_rnn(input_shape):\n",
    "    inputs = kl.Input(input_shape)\n",
    "    \n",
    "    rnn1 = kl.SimpleRNN(units=1024, activation=\"tanh\", return_sequences=True)(inputs)\n",
    "    rnn2 = kl.SimpleRNN(units=1024, activation=\"tanh\", return_sequences=False)(rnn1)\n",
    "\n",
    "    dense1 = kl.Dense(units=512, activation=\"relu\")(rnn2)\n",
    "    norm1 = kl.BatchNormalization()(dense1)\n",
    "    dense2 = kl.Dense(units=256, activation=\"relu\")(rnn2)\n",
    "    norm2 = kl.BatchNormalization()(dense2)\n",
    "    outputs = kl.Dense(units=1, activation=\"sigmoid\")(dense1)\n",
    "\n",
    "    model = Model(inputs=inputs, outputs=outputs)\n",
    "\n",
    "    return model"
   ]
  },
  {
   "cell_type": "code",
   "execution_count": 34,
   "metadata": {},
   "outputs": [],
   "source": [
    "def create_conv_model(input_shape):\n",
    "    inputs = kl.Input(input_shape)\n",
    "\n",
    "    conv1 = kl.Conv1D(filters=64, kernel_size=7, activation=\"relu\")(inputs)\n",
    "    pool1 = kl.MaxPooling1D()(conv1)\n",
    "    conv2 = kl.Conv1D(filters=128, kernel_size=3, activation=\"relu\")(pool1)\n",
    "    pool2 = kl.MaxPooling1D()(conv2)\n",
    "\n",
    "    dense1 = kl.Dense(units=128, activation=\"relu\")(pool2)\n",
    "    dense2 = kl.Dense(units=128, activation=\"relu\")(dense1)\n",
    "    outputs = kl.Dense(units=1, activation=\"sigmoid\")(dense2)\n",
    "\n",
    "    model = Model(inputs=inputs, outputs=outputs)\n",
    "\n",
    "    return model\n"
   ]
  },
  {
   "cell_type": "code",
   "execution_count": 43,
   "metadata": {},
   "outputs": [
    {
     "name": "stdout",
     "output_type": "stream",
     "text": [
      "Model: \"model_3\"\n",
      "_________________________________________________________________\n",
      " Layer (type)                Output Shape              Param #   \n",
      "=================================================================\n",
      " input_5 (InputLayer)        [(None, 25, 64)]          0         \n",
      "                                                                 \n",
      " simple_rnn_1 (SimpleRNN)    (None, 2048)              4327424   \n",
      "                                                                 \n",
      " dense_7 (Dense)             (None, 512)               1049088   \n",
      "                                                                 \n",
      " dense_8 (Dense)             (None, 1)                 513       \n",
      "                                                                 \n",
      "=================================================================\n",
      "Total params: 5,377,025\n",
      "Trainable params: 5,377,025\n",
      "Non-trainable params: 0\n",
      "_________________________________________________________________\n"
     ]
    }
   ],
   "source": [
    "simple_rnn = create_simple_rnn((25, X_train.shape[-1]))\n",
    "simple_rnn.summary()"
   ]
  },
  {
   "cell_type": "code",
   "execution_count": 44,
   "metadata": {},
   "outputs": [],
   "source": [
    "loss = kloss.BinaryCrossentropy(from_logits=False)\n",
    "optimizer = kopt.Adam(learning_rate=0.001, clipvalue=0.5)\n",
    "simple_rnn.compile(optimizer=optimizer, loss=loss, metrics=['accuracy'])"
   ]
  },
  {
   "cell_type": "code",
   "execution_count": 45,
   "metadata": {},
   "outputs": [
    {
     "name": "stdout",
     "output_type": "stream",
     "text": [
      "79/79 [==============================] - 49s 615ms/step - loss: 0.9413 - accuracy: 0.5272 - val_loss: 0.6935 - val_accuracy: 0.5188\n"
     ]
    }
   ],
   "source": [
    "#training the model \n",
    "history = simple_rnn.fit(X_train[:, :25], Y_train, epochs=1, batch_size=64, validation_data=(X_eval[:, :25], Y_eval))"
   ]
  },
  {
   "cell_type": "code",
   "execution_count": null,
   "metadata": {},
   "outputs": [
    {
     "data": {
      "image/png": "[encoded data removed]",
      "text/plain": [
       "<Figure size 640x480 with 1 Axes>"
      ]
     },
     "metadata": {},
     "output_type": "display_data"
    }
   ],
   "source": [
    "plt.plot(history.history['accuracy'])\n",
    "plt.show()"
   ]
  },
  {
   "cell_type": "code",
   "execution_count": null,
   "metadata": {},
   "outputs": [
    {
     "data": {
      "text/plain": [
       "5277"
      ]
     },
     "execution_count": 25,
     "metadata": {},
     "output_type": "execute_result"
    }
   ],
   "source": [
    "del X_train, Y_train, X_eval, Y_eval\n",
    "gc.collect()"
   ]
  }
 ],
 "metadata": {
  "kernelspec": {
   "display_name": "Python 3",
   "language": "python",
   "name": "python3"
  },
  "language_info": {
   "codemirror_mode": {
    "name": "ipython",
    "version": 3
   },
   "file_extension": ".py",
   "mimetype": "text/x-python",
   "name": "python",
   "nbconvert_exporter": "python",
   "pygments_lexer": "ipython3",
   "version": "3.10.0"
  }
 },
 "nbformat": 4,
 "nbformat_minor": 2
}
