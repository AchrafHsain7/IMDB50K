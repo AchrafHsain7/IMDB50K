{
 "cells": [
  {
   "cell_type": "code",
   "execution_count": 2,
   "metadata": {},
   "outputs": [],
   "source": [
    "import numpy as np \n",
    "import matplotlib.pyplot as plt \n",
    "import keras.layers as kl\n",
    "from keras.models import Model\n",
    "from sklearn.metrics import f1_score, precision_score, recall_score\n",
    "from sklearn.metrics import ConfusionMatrixDisplay, confusion_matrix"
   ]
  },
  {
   "cell_type": "markdown",
   "metadata": {},
   "source": [
    "# The RNN model implementation "
   ]
  },
  {
   "cell_type": "code",
   "execution_count": 3,
   "metadata": {},
   "outputs": [],
   "source": [
    "#loading the Training Data\n",
    "X_train = np.load(\"X_train.npy\")\n",
    "Y_train = np.load(\"Y_train.npy\")"
   ]
  },
  {
   "cell_type": "code",
   "execution_count": 4,
   "metadata": {},
   "outputs": [
    {
     "name": "stdout",
     "output_type": "stream",
     "text": [
      "(38001, 714, 32)\n",
      "(38001, 1)\n"
     ]
    }
   ],
   "source": [
    "Y_train = Y_train.reshape((Y_train.shape[0], 1))\n",
    "print(X_train.shape)\n",
    "print(Y_train.shape)"
   ]
  },
  {
   "cell_type": "code",
   "execution_count": 9,
   "metadata": {},
   "outputs": [],
   "source": [
    "#loading the Evaluation Data\n",
    "X_eval = np.load(\"X_eval.npy\")\n",
    "Y_eval = np.load(\"Y_eval.npy\")"
   ]
  },
  {
   "cell_type": "code",
   "execution_count": 10,
   "metadata": {},
   "outputs": [
    {
     "name": "stdout",
     "output_type": "stream",
     "text": [
      "(4750, 714, 32)\n",
      "(4750, 1)\n"
     ]
    }
   ],
   "source": [
    "Y_eval = Y_eval.reshape((Y_eval.shape[0], 1))\n",
    "print(X_eval.shape)\n",
    "print(Y_eval.shape)"
   ]
  },
  {
   "cell_type": "markdown",
   "metadata": {},
   "source": [
    "## Creating a simple RNN model"
   ]
  },
  {
   "cell_type": "code",
   "execution_count": null,
   "metadata": {},
   "outputs": [],
   "source": [
    "#creating simple RNN model\n",
    "def create_simple_rnn(input_shape=(714, 32)):\n",
    "    \n",
    "    inputs = kl.Input(input_shape)\n",
    "    rnn = kl.SimpleRNN(units=128, activation=\"relu\", return_sequences=False)(inputs)\n",
    "    outputs =kl.Dense(units=1, activation=\"sigmoid\")(rnn)\n",
    "\n",
    "    model = Model(inputs=inputs, outputs=outputs)\n",
    "\n",
    "    return model"
   ]
  },
  {
   "cell_type": "code",
   "execution_count": 15,
   "metadata": {},
   "outputs": [
    {
     "name": "stdout",
     "output_type": "stream",
     "text": [
      "Model: \"model_1\"\n",
      "_________________________________________________________________\n",
      " Layer (type)                Output Shape              Param #   \n",
      "=================================================================\n",
      " input_2 (InputLayer)        [(None, 714, 32)]         0         \n",
      "                                                                 \n",
      " simple_rnn_1 (SimpleRNN)    (None, 128)               20608     \n",
      "                                                                 \n",
      " dense_1 (Dense)             (None, 1)                 129       \n",
      "                                                                 \n",
      "=================================================================\n",
      "Total params: 20,737\n",
      "Trainable params: 20,737\n",
      "Non-trainable params: 0\n",
      "_________________________________________________________________\n"
     ]
    }
   ],
   "source": [
    "simple_rnn = create_simple_rnn()\n",
    "simple_rnn.summary()"
   ]
  },
  {
   "cell_type": "code",
   "execution_count": 16,
   "metadata": {},
   "outputs": [],
   "source": [
    "simple_rnn.compile(optimizer=\"adam\", loss=\"binary_crossentropy\", metrics=['accuracy'])"
   ]
  },
  {
   "cell_type": "code",
   "execution_count": 17,
   "metadata": {},
   "outputs": [
    {
     "name": "stdout",
     "output_type": "stream",
     "text": [
      "Epoch 1/100\n",
      "4/4 [==============================] - 2s 206ms/step - loss: 0.7352 - accuracy: 0.4300 - val_loss: 0.6467 - val_accuracy: 0.8000\n",
      "Epoch 2/100\n",
      "4/4 [==============================] - 1s 134ms/step - loss: 0.7240 - accuracy: 0.4600 - val_loss: 0.8011 - val_accuracy: 0.1000\n",
      "Epoch 3/100\n",
      "4/4 [==============================] - 1s 139ms/step - loss: 0.7026 - accuracy: 0.5000 - val_loss: 0.6668 - val_accuracy: 0.6000\n",
      "Epoch 4/100\n",
      "4/4 [==============================] - 1s 134ms/step - loss: 0.7077 - accuracy: 0.4800 - val_loss: 0.7713 - val_accuracy: 0.2000\n",
      "Epoch 5/100\n",
      "4/4 [==============================] - 1s 148ms/step - loss: 0.6876 - accuracy: 0.5500 - val_loss: 0.8357 - val_accuracy: 0.2000\n",
      "Epoch 6/100\n",
      "4/4 [==============================] - 1s 130ms/step - loss: 0.6992 - accuracy: 0.5000 - val_loss: 0.7300 - val_accuracy: 0.4000\n",
      "Epoch 7/100\n",
      "4/4 [==============================] - 1s 131ms/step - loss: 0.7048 - accuracy: 0.4700 - val_loss: 0.6777 - val_accuracy: 0.7000\n",
      "Epoch 8/100\n",
      "4/4 [==============================] - 1s 136ms/step - loss: 0.6947 - accuracy: 0.5200 - val_loss: 0.6903 - val_accuracy: 0.5000\n",
      "Epoch 9/100\n",
      "4/4 [==============================] - 1s 135ms/step - loss: 0.6901 - accuracy: 0.5000 - val_loss: 0.7321 - val_accuracy: 0.4000\n",
      "Epoch 10/100\n",
      "4/4 [==============================] - 1s 145ms/step - loss: 0.6997 - accuracy: 0.4900 - val_loss: 0.7373 - val_accuracy: 0.5000\n",
      "Epoch 11/100\n",
      "4/4 [==============================] - 1s 133ms/step - loss: 0.6689 - accuracy: 0.5800 - val_loss: 0.9497 - val_accuracy: 0.4000\n",
      "Epoch 12/100\n",
      "4/4 [==============================] - 1s 131ms/step - loss: 0.7296 - accuracy: 0.5600 - val_loss: 0.7301 - val_accuracy: 0.3000\n",
      "Epoch 13/100\n",
      "4/4 [==============================] - 1s 133ms/step - loss: 0.7718 - accuracy: 0.4900 - val_loss: 0.6457 - val_accuracy: 0.6000\n",
      "Epoch 14/100\n",
      "4/4 [==============================] - 1s 137ms/step - loss: 0.7158 - accuracy: 0.4800 - val_loss: 0.6953 - val_accuracy: 0.6000\n",
      "Epoch 15/100\n",
      "4/4 [==============================] - 1s 144ms/step - loss: 0.6932 - accuracy: 0.4900 - val_loss: 0.7373 - val_accuracy: 0.3000\n",
      "Epoch 16/100\n",
      "4/4 [==============================] - 1s 135ms/step - loss: 0.6843 - accuracy: 0.6200 - val_loss: 0.7643 - val_accuracy: 0.3000\n",
      "Epoch 17/100\n",
      "4/4 [==============================] - 1s 134ms/step - loss: 0.7293 - accuracy: 0.4700 - val_loss: 0.7339 - val_accuracy: 0.6000\n",
      "Epoch 18/100\n",
      "4/4 [==============================] - 1s 136ms/step - loss: 0.6865 - accuracy: 0.5200 - val_loss: 0.6887 - val_accuracy: 0.5000\n",
      "Epoch 19/100\n",
      "4/4 [==============================] - 1s 137ms/step - loss: 0.6823 - accuracy: 0.5400 - val_loss: 0.7204 - val_accuracy: 0.5000\n",
      "Epoch 20/100\n",
      "4/4 [==============================] - 1s 136ms/step - loss: 0.6875 - accuracy: 0.5700 - val_loss: 0.7407 - val_accuracy: 0.5000\n",
      "Epoch 21/100\n",
      "4/4 [==============================] - 1s 134ms/step - loss: 0.6824 - accuracy: 0.5400 - val_loss: 0.6113 - val_accuracy: 0.6000\n",
      "Epoch 22/100\n",
      "4/4 [==============================] - 1s 135ms/step - loss: 0.7416 - accuracy: 0.4600 - val_loss: 0.7288 - val_accuracy: 0.3000\n",
      "Epoch 23/100\n",
      "4/4 [==============================] - 1s 155ms/step - loss: 0.7162 - accuracy: 0.5200 - val_loss: 0.7395 - val_accuracy: 0.5000\n",
      "Epoch 24/100\n",
      "4/4 [==============================] - 1s 144ms/step - loss: 0.7232 - accuracy: 0.4700 - val_loss: 0.7629 - val_accuracy: 0.4000\n",
      "Epoch 25/100\n",
      "4/4 [==============================] - 1s 138ms/step - loss: 0.6954 - accuracy: 0.5100 - val_loss: 0.7474 - val_accuracy: 0.4000\n",
      "Epoch 26/100\n",
      "4/4 [==============================] - 1s 137ms/step - loss: 0.7002 - accuracy: 0.4800 - val_loss: 0.6876 - val_accuracy: 0.5000\n",
      "Epoch 27/100\n",
      "4/4 [==============================] - 1s 135ms/step - loss: 0.6855 - accuracy: 0.5500 - val_loss: 0.6805 - val_accuracy: 0.6000\n",
      "Epoch 28/100\n",
      "4/4 [==============================] - 1s 135ms/step - loss: 0.6819 - accuracy: 0.5700 - val_loss: 0.6208 - val_accuracy: 0.8000\n",
      "Epoch 29/100\n",
      "4/4 [==============================] - 1s 144ms/step - loss: 0.6828 - accuracy: 0.5600 - val_loss: 0.8079 - val_accuracy: 0.3000\n",
      "Epoch 30/100\n",
      "4/4 [==============================] - 1s 131ms/step - loss: 0.7200 - accuracy: 0.4700 - val_loss: 0.7299 - val_accuracy: 0.5000\n",
      "Epoch 31/100\n",
      "4/4 [==============================] - 1s 136ms/step - loss: 0.7018 - accuracy: 0.5200 - val_loss: 0.7010 - val_accuracy: 0.5000\n",
      "Epoch 32/100\n",
      "4/4 [==============================] - 1s 139ms/step - loss: 0.6932 - accuracy: 0.5000 - val_loss: 0.7260 - val_accuracy: 0.4000\n",
      "Epoch 33/100\n",
      "4/4 [==============================] - 1s 132ms/step - loss: 0.7118 - accuracy: 0.4200 - val_loss: 0.7063 - val_accuracy: 0.3000\n",
      "Epoch 34/100\n",
      "4/4 [==============================] - 1s 133ms/step - loss: 0.6989 - accuracy: 0.5400 - val_loss: 0.7103 - val_accuracy: 0.6000\n",
      "Epoch 35/100\n",
      "4/4 [==============================] - 1s 134ms/step - loss: 0.6846 - accuracy: 0.5700 - val_loss: 0.7132 - val_accuracy: 0.5000\n",
      "Epoch 36/100\n",
      "4/4 [==============================] - 1s 135ms/step - loss: 0.6946 - accuracy: 0.5500 - val_loss: 0.7067 - val_accuracy: 0.4000\n",
      "Epoch 37/100\n",
      "4/4 [==============================] - 1s 147ms/step - loss: 0.7092 - accuracy: 0.4700 - val_loss: 0.7246 - val_accuracy: 0.4000\n",
      "Epoch 38/100\n",
      "4/4 [==============================] - 1s 148ms/step - loss: 0.7206 - accuracy: 0.4400 - val_loss: 0.7171 - val_accuracy: 0.6000\n",
      "Epoch 39/100\n",
      "4/4 [==============================] - 1s 140ms/step - loss: 0.6795 - accuracy: 0.5900 - val_loss: 0.7185 - val_accuracy: 0.4000\n",
      "Epoch 40/100\n",
      "4/4 [==============================] - 1s 135ms/step - loss: 0.7008 - accuracy: 0.5300 - val_loss: 0.7192 - val_accuracy: 0.3000\n",
      "Epoch 41/100\n",
      "4/4 [==============================] - 1s 137ms/step - loss: 0.6870 - accuracy: 0.5700 - val_loss: 0.7600 - val_accuracy: 0.3000\n",
      "Epoch 42/100\n",
      "4/4 [==============================] - 1s 139ms/step - loss: 0.7028 - accuracy: 0.5200 - val_loss: 0.6880 - val_accuracy: 0.6000\n",
      "Epoch 43/100\n",
      "4/4 [==============================] - 1s 137ms/step - loss: 0.6925 - accuracy: 0.5000 - val_loss: 0.7215 - val_accuracy: 0.4000\n",
      "Epoch 44/100\n",
      "4/4 [==============================] - 1s 136ms/step - loss: 0.6907 - accuracy: 0.5600 - val_loss: 0.7096 - val_accuracy: 0.4000\n",
      "Epoch 45/100\n",
      "4/4 [==============================] - 1s 137ms/step - loss: 0.6971 - accuracy: 0.4700 - val_loss: 0.7251 - val_accuracy: 0.4000\n",
      "Epoch 46/100\n",
      "4/4 [==============================] - 1s 133ms/step - loss: 0.6756 - accuracy: 0.5700 - val_loss: 0.7482 - val_accuracy: 0.3000\n",
      "Epoch 47/100\n",
      "4/4 [==============================] - 1s 140ms/step - loss: 0.6974 - accuracy: 0.5200 - val_loss: 0.6614 - val_accuracy: 0.6000\n",
      "Epoch 48/100\n",
      "4/4 [==============================] - 1s 133ms/step - loss: 0.6662 - accuracy: 0.6000 - val_loss: 0.6822 - val_accuracy: 0.4000\n",
      "Epoch 49/100\n",
      "4/4 [==============================] - 1s 135ms/step - loss: 0.6924 - accuracy: 0.5700 - val_loss: 0.7012 - val_accuracy: 0.5000\n",
      "Epoch 50/100\n",
      "4/4 [==============================] - 1s 136ms/step - loss: 0.6953 - accuracy: 0.5300 - val_loss: 0.7015 - val_accuracy: 0.3000\n",
      "Epoch 51/100\n",
      "4/4 [==============================] - 1s 155ms/step - loss: 0.6838 - accuracy: 0.5400 - val_loss: 0.7043 - val_accuracy: 0.7000\n",
      "Epoch 52/100\n",
      "4/4 [==============================] - 1s 136ms/step - loss: 0.6965 - accuracy: 0.5200 - val_loss: 0.7029 - val_accuracy: 0.5000\n",
      "Epoch 53/100\n",
      "4/4 [==============================] - 1s 138ms/step - loss: 0.6810 - accuracy: 0.5500 - val_loss: 0.7136 - val_accuracy: 0.7000\n",
      "Epoch 54/100\n",
      "4/4 [==============================] - 1s 136ms/step - loss: 0.6979 - accuracy: 0.5400 - val_loss: 0.7320 - val_accuracy: 0.4000\n",
      "Epoch 55/100\n",
      "4/4 [==============================] - 1s 133ms/step - loss: 0.6805 - accuracy: 0.5700 - val_loss: 0.7445 - val_accuracy: 0.2000\n",
      "Epoch 56/100\n",
      "4/4 [==============================] - 1s 144ms/step - loss: 0.6733 - accuracy: 0.5900 - val_loss: 0.7235 - val_accuracy: 0.6000\n",
      "Epoch 57/100\n",
      "4/4 [==============================] - 1s 141ms/step - loss: 0.7047 - accuracy: 0.4800 - val_loss: 0.6879 - val_accuracy: 0.7000\n",
      "Epoch 58/100\n",
      "4/4 [==============================] - 1s 133ms/step - loss: 0.6745 - accuracy: 0.5600 - val_loss: 0.7249 - val_accuracy: 0.6000\n",
      "Epoch 59/100\n",
      "4/4 [==============================] - 1s 133ms/step - loss: 0.6613 - accuracy: 0.6500 - val_loss: 0.7257 - val_accuracy: 0.5000\n",
      "Epoch 60/100\n",
      "4/4 [==============================] - 1s 147ms/step - loss: 0.6964 - accuracy: 0.5000 - val_loss: 0.7044 - val_accuracy: 0.7000\n",
      "Epoch 61/100\n",
      "4/4 [==============================] - 1s 135ms/step - loss: 0.7233 - accuracy: 0.4700 - val_loss: 0.7337 - val_accuracy: 0.4000\n",
      "Epoch 62/100\n",
      "4/4 [==============================] - 1s 133ms/step - loss: 0.7124 - accuracy: 0.5100 - val_loss: 0.7176 - val_accuracy: 0.3000\n",
      "Epoch 63/100\n",
      "4/4 [==============================] - 1s 134ms/step - loss: 0.6863 - accuracy: 0.5700 - val_loss: 0.7133 - val_accuracy: 0.5000\n",
      "Epoch 64/100\n",
      "4/4 [==============================] - 1s 135ms/step - loss: 0.6804 - accuracy: 0.5900 - val_loss: 0.7026 - val_accuracy: 0.6000\n",
      "Epoch 65/100\n",
      "4/4 [==============================] - 1s 136ms/step - loss: 0.6875 - accuracy: 0.5400 - val_loss: 0.7077 - val_accuracy: 0.6000\n",
      "Epoch 66/100\n",
      "4/4 [==============================] - 1s 136ms/step - loss: 0.7043 - accuracy: 0.5300 - val_loss: 0.7680 - val_accuracy: 0.5000\n",
      "Epoch 67/100\n",
      "4/4 [==============================] - 1s 137ms/step - loss: 0.6899 - accuracy: 0.5300 - val_loss: 0.7649 - val_accuracy: 0.5000\n",
      "Epoch 68/100\n",
      "4/4 [==============================] - 1s 137ms/step - loss: 0.6909 - accuracy: 0.5200 - val_loss: 0.7269 - val_accuracy: 0.4000\n",
      "Epoch 69/100\n",
      "4/4 [==============================] - 1s 150ms/step - loss: 0.7077 - accuracy: 0.4700 - val_loss: 0.8088 - val_accuracy: 0.4000\n",
      "Epoch 70/100\n",
      "4/4 [==============================] - 1s 136ms/step - loss: 0.6734 - accuracy: 0.5400 - val_loss: 0.8037 - val_accuracy: 0.4000\n",
      "Epoch 71/100\n",
      "4/4 [==============================] - 1s 135ms/step - loss: 0.6694 - accuracy: 0.5700 - val_loss: 0.7303 - val_accuracy: 0.4000\n",
      "Epoch 72/100\n",
      "4/4 [==============================] - 1s 132ms/step - loss: 0.7210 - accuracy: 0.4500 - val_loss: 0.7078 - val_accuracy: 0.4000\n",
      "Epoch 73/100\n",
      "4/4 [==============================] - 1s 145ms/step - loss: 0.6880 - accuracy: 0.5400 - val_loss: 0.7298 - val_accuracy: 0.4000\n",
      "Epoch 74/100\n",
      "4/4 [==============================] - 1s 145ms/step - loss: 0.6863 - accuracy: 0.5800 - val_loss: 0.7140 - val_accuracy: 0.5000\n",
      "Epoch 75/100\n",
      "4/4 [==============================] - 1s 135ms/step - loss: 0.6934 - accuracy: 0.5700 - val_loss: 0.7113 - val_accuracy: 0.3000\n",
      "Epoch 76/100\n",
      "4/4 [==============================] - 1s 138ms/step - loss: 0.6972 - accuracy: 0.5400 - val_loss: 0.7275 - val_accuracy: 0.5000\n",
      "Epoch 77/100\n",
      "4/4 [==============================] - 1s 145ms/step - loss: 0.6859 - accuracy: 0.5100 - val_loss: 0.7090 - val_accuracy: 0.4000\n",
      "Epoch 78/100\n",
      "4/4 [==============================] - 1s 140ms/step - loss: 0.6888 - accuracy: 0.5500 - val_loss: 0.7259 - val_accuracy: 0.4000\n",
      "Epoch 79/100\n",
      "4/4 [==============================] - 1s 136ms/step - loss: 0.7106 - accuracy: 0.4700 - val_loss: 0.7340 - val_accuracy: 0.5000\n",
      "Epoch 80/100\n",
      "4/4 [==============================] - 1s 135ms/step - loss: 0.7156 - accuracy: 0.5200 - val_loss: 0.7603 - val_accuracy: 0.3000\n",
      "Epoch 81/100\n",
      "4/4 [==============================] - 1s 137ms/step - loss: 0.6811 - accuracy: 0.5900 - val_loss: 0.7404 - val_accuracy: 0.4000\n",
      "Epoch 82/100\n",
      "4/4 [==============================] - 1s 137ms/step - loss: 0.6724 - accuracy: 0.6100 - val_loss: 0.7596 - val_accuracy: 0.4000\n",
      "Epoch 83/100\n",
      "4/4 [==============================] - 1s 134ms/step - loss: 0.7027 - accuracy: 0.5400 - val_loss: 0.6058 - val_accuracy: 0.7000\n",
      "Epoch 84/100\n",
      "4/4 [==============================] - 1s 136ms/step - loss: 0.7219 - accuracy: 0.5000 - val_loss: 0.6563 - val_accuracy: 0.6000\n",
      "Epoch 85/100\n",
      "4/4 [==============================] - 1s 132ms/step - loss: 0.7124 - accuracy: 0.4900 - val_loss: 0.7746 - val_accuracy: 0.4000\n",
      "Epoch 86/100\n",
      "4/4 [==============================] - 1s 135ms/step - loss: 0.7107 - accuracy: 0.4700 - val_loss: 0.6586 - val_accuracy: 0.4000\n",
      "Epoch 87/100\n",
      "4/4 [==============================] - 1s 138ms/step - loss: 0.7053 - accuracy: 0.5000 - val_loss: 0.7199 - val_accuracy: 0.5000\n",
      "Epoch 88/100\n",
      "4/4 [==============================] - 1s 135ms/step - loss: 0.7061 - accuracy: 0.4700 - val_loss: 0.7286 - val_accuracy: 0.5000\n",
      "Epoch 89/100\n",
      "4/4 [==============================] - 1s 136ms/step - loss: 0.6674 - accuracy: 0.5800 - val_loss: 0.7558 - val_accuracy: 0.3000\n",
      "Epoch 90/100\n",
      "4/4 [==============================] - 1s 138ms/step - loss: 0.7270 - accuracy: 0.4500 - val_loss: 0.6658 - val_accuracy: 0.7000\n",
      "Epoch 91/100\n",
      "4/4 [==============================] - 1s 137ms/step - loss: 0.7331 - accuracy: 0.4300 - val_loss: 0.6089 - val_accuracy: 0.7000\n",
      "Epoch 92/100\n",
      "4/4 [==============================] - 1s 137ms/step - loss: 0.6727 - accuracy: 0.5900 - val_loss: 0.7745 - val_accuracy: 0.4000\n",
      "Epoch 93/100\n",
      "4/4 [==============================] - 1s 136ms/step - loss: 0.6824 - accuracy: 0.5200 - val_loss: 0.7077 - val_accuracy: 0.5000\n",
      "Epoch 94/100\n",
      "4/4 [==============================] - 1s 136ms/step - loss: 0.7015 - accuracy: 0.5200 - val_loss: 0.6416 - val_accuracy: 0.8000\n",
      "Epoch 95/100\n",
      "4/4 [==============================] - 1s 135ms/step - loss: 0.7016 - accuracy: 0.5000 - val_loss: 0.6854 - val_accuracy: 0.6000\n",
      "Epoch 96/100\n",
      "4/4 [==============================] - 1s 138ms/step - loss: 0.6890 - accuracy: 0.5400 - val_loss: 0.6566 - val_accuracy: 0.4000\n",
      "Epoch 97/100\n",
      "4/4 [==============================] - 1s 135ms/step - loss: 0.7184 - accuracy: 0.4700 - val_loss: 0.7315 - val_accuracy: 0.5000\n",
      "Epoch 98/100\n",
      "4/4 [==============================] - 1s 135ms/step - loss: 0.6998 - accuracy: 0.5000 - val_loss: 0.7531 - val_accuracy: 0.3000\n",
      "Epoch 99/100\n",
      "4/4 [==============================] - 1s 133ms/step - loss: 0.6866 - accuracy: 0.5600 - val_loss: 0.7005 - val_accuracy: 0.5000\n",
      "Epoch 100/100\n",
      "4/4 [==============================] - 1s 134ms/step - loss: 0.6949 - accuracy: 0.5100 - val_loss: 0.7313 - val_accuracy: 0.3000\n"
     ]
    }
   ],
   "source": [
    "#training the model \n",
    "history = simple_rnn.fit(X_train[:100], Y_train[:100], epochs=100, batch_size=32, validation_data=(X_eval[:10], Y_eval[:10]))"
   ]
  },
  {
   "cell_type": "code",
   "execution_count": 18,
   "metadata": {},
   "outputs": [
    {
     "data": {
      "image/png": "[encoded data removed]",
      "text/plain": [
       "<Figure size 640x480 with 1 Axes>"
      ]
     },
     "metadata": {},
     "output_type": "display_data"
    }
   ],
   "source": [
    "plt.plot(history.history['loss'])\n",
    "plt.show()"
   ]
  }
 ],
 "metadata": {
  "kernelspec": {
   "display_name": "Python 3",
   "language": "python",
   "name": "python3"
  },
  "language_info": {
   "codemirror_mode": {
    "name": "ipython",
    "version": 3
   },
   "file_extension": ".py",
   "mimetype": "text/x-python",
   "name": "python",
   "nbconvert_exporter": "python",
   "pygments_lexer": "ipython3",
   "version": "3.10.0"
  }
 },
 "nbformat": 4,
 "nbformat_minor": 2
}
