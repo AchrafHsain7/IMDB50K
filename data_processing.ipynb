{
 "cells": [
  {
   "cell_type": "code",
   "execution_count": 1,
   "metadata": {},
   "outputs": [],
   "source": [
    "import pandas as pd \n",
    "import numpy as np \n",
    "import matplotlib.pyplot as plt \n",
    "import csv\n",
    "from gensim.models import Word2Vec\n",
    "import nltk\n",
    "from sklearn.model_selection import train_test_split\n",
    "import gc"
   ]
  },
  {
   "cell_type": "markdown",
   "metadata": {},
   "source": [
    "# Loading the Train and Test Data in Text Format"
   ]
  },
  {
   "cell_type": "code",
   "execution_count": 2,
   "metadata": {},
   "outputs": [
    {
     "data": {
      "text/html": [
       "<div>\n",
       "<style scoped>\n",
       "    .dataframe tbody tr th:only-of-type {\n",
       "        vertical-align: middle;\n",
       "    }\n",
       "\n",
       "    .dataframe tbody tr th {\n",
       "        vertical-align: top;\n",
       "    }\n",
       "\n",
       "    .dataframe thead th {\n",
       "        text-align: right;\n",
       "    }\n",
       "</style>\n",
       "<table border=\"1\" class=\"dataframe\">\n",
       "  <thead>\n",
       "    <tr style=\"text-align: right;\">\n",
       "      <th></th>\n",
       "      <th>text</th>\n",
       "      <th>sentiment</th>\n",
       "    </tr>\n",
       "  </thead>\n",
       "  <tbody>\n",
       "    <tr>\n",
       "      <th>0</th>\n",
       "      <td>Now, I won't deny that when I purchased this o...</td>\n",
       "      <td>neg</td>\n",
       "    </tr>\n",
       "    <tr>\n",
       "      <th>1</th>\n",
       "      <td>The saddest thing about this \"tribute\" is that...</td>\n",
       "      <td>neg</td>\n",
       "    </tr>\n",
       "    <tr>\n",
       "      <th>2</th>\n",
       "      <td>Last night I decided to watch the prequel or s...</td>\n",
       "      <td>neg</td>\n",
       "    </tr>\n",
       "    <tr>\n",
       "      <th>3</th>\n",
       "      <td>I have to admit that i liked the first half of...</td>\n",
       "      <td>neg</td>\n",
       "    </tr>\n",
       "    <tr>\n",
       "      <th>4</th>\n",
       "      <td>I was not impressed about this film especially...</td>\n",
       "      <td>neg</td>\n",
       "    </tr>\n",
       "  </tbody>\n",
       "</table>\n",
       "</div>"
      ],
      "text/plain": [
       "                                                text sentiment\n",
       "0  Now, I won't deny that when I purchased this o...       neg\n",
       "1  The saddest thing about this \"tribute\" is that...       neg\n",
       "2  Last night I decided to watch the prequel or s...       neg\n",
       "3  I have to admit that i liked the first half of...       neg\n",
       "4  I was not impressed about this film especially...       neg"
      ]
     },
     "execution_count": 2,
     "metadata": {},
     "output_type": "execute_result"
    }
   ],
   "source": [
    "#loading train data\n",
    "train_df = pd.read_csv(\"train.csv\")\n",
    "train_df.head()"
   ]
  },
  {
   "cell_type": "code",
   "execution_count": 3,
   "metadata": {},
   "outputs": [
    {
     "data": {
      "text/html": [
       "<div>\n",
       "<style scoped>\n",
       "    .dataframe tbody tr th:only-of-type {\n",
       "        vertical-align: middle;\n",
       "    }\n",
       "\n",
       "    .dataframe tbody tr th {\n",
       "        vertical-align: top;\n",
       "    }\n",
       "\n",
       "    .dataframe thead th {\n",
       "        text-align: right;\n",
       "    }\n",
       "</style>\n",
       "<table border=\"1\" class=\"dataframe\">\n",
       "  <thead>\n",
       "    <tr style=\"text-align: right;\">\n",
       "      <th></th>\n",
       "      <th>text</th>\n",
       "      <th>sentiment</th>\n",
       "    </tr>\n",
       "  </thead>\n",
       "  <tbody>\n",
       "    <tr>\n",
       "      <th>0</th>\n",
       "      <td>My daughter liked it but I was aghast, that a ...</td>\n",
       "      <td>neg</td>\n",
       "    </tr>\n",
       "    <tr>\n",
       "      <th>1</th>\n",
       "      <td>I... No words. No words can describe this. I w...</td>\n",
       "      <td>neg</td>\n",
       "    </tr>\n",
       "    <tr>\n",
       "      <th>2</th>\n",
       "      <td>this film is basically a poor take on the old ...</td>\n",
       "      <td>neg</td>\n",
       "    </tr>\n",
       "    <tr>\n",
       "      <th>3</th>\n",
       "      <td>This is a terrible movie, and I'm not even sur...</td>\n",
       "      <td>neg</td>\n",
       "    </tr>\n",
       "    <tr>\n",
       "      <th>4</th>\n",
       "      <td>First of all this movie is a piece of reality ...</td>\n",
       "      <td>pos</td>\n",
       "    </tr>\n",
       "  </tbody>\n",
       "</table>\n",
       "</div>"
      ],
      "text/plain": [
       "                                                text sentiment\n",
       "0  My daughter liked it but I was aghast, that a ...       neg\n",
       "1  I... No words. No words can describe this. I w...       neg\n",
       "2  this film is basically a poor take on the old ...       neg\n",
       "3  This is a terrible movie, and I'm not even sur...       neg\n",
       "4  First of all this movie is a piece of reality ...       pos"
      ]
     },
     "execution_count": 3,
     "metadata": {},
     "output_type": "execute_result"
    }
   ],
   "source": [
    "#loading test data\n",
    "test_df = pd.read_csv(\"test.csv\")\n",
    "test_df.head()"
   ]
  },
  {
   "cell_type": "markdown",
   "metadata": {},
   "source": [
    "# Initial Data Exploration"
   ]
  },
  {
   "cell_type": "code",
   "execution_count": 4,
   "metadata": {},
   "outputs": [
    {
     "name": "stdout",
     "output_type": "stream",
     "text": [
      "Train Data shape:  (25000, 2)\n",
      "Test Data shape:  (25000, 2)\n"
     ]
    }
   ],
   "source": [
    "#getting shape informations\n",
    "print(\"Train Data shape: \", train_df.shape)\n",
    "print(\"Test Data shape: \", test_df.shape)"
   ]
  },
  {
   "cell_type": "markdown",
   "metadata": {},
   "source": [
    "- Both Sets have the same size of 25 000 data point, in total 50K labeled sentence"
   ]
  },
  {
   "cell_type": "code",
   "execution_count": 5,
   "metadata": {},
   "outputs": [
    {
     "name": "stdout",
     "output_type": "stream",
     "text": [
      "Train Nan Values: \n",
      "text         0\n",
      "sentiment    0\n",
      "dtype: int64\n",
      "\n",
      "Test Nan Values: \n",
      "text         0\n",
      "sentiment    0\n",
      "dtype: int64\n"
     ]
    }
   ],
   "source": [
    "#looking for Null Values\n",
    "print(\"Train Nan Values: \")\n",
    "print(train_df.isnull().sum())\n",
    "\n",
    "print(\"\\nTest Nan Values: \")\n",
    "print(test_df.isnull().sum())"
   ]
  },
  {
   "cell_type": "markdown",
   "metadata": {},
   "source": [
    "- There is no Nan/Null Values in the both sets"
   ]
  },
  {
   "cell_type": "code",
   "execution_count": 6,
   "metadata": {},
   "outputs": [
    {
     "name": "stdout",
     "output_type": "stream",
     "text": [
      "neg    12500\n",
      "pos    12500\n",
      "Name: sentiment, dtype: int64\n",
      "=================\n",
      "neg    12500\n",
      "pos    12500\n",
      "Name: sentiment, dtype: int64\n"
     ]
    }
   ],
   "source": [
    "#exploring the labels distribution\n",
    "print(train_df['sentiment'].value_counts(), end=\"\\n=================\\n\")\n",
    "print(test_df['sentiment'].value_counts())"
   ]
  },
  {
   "cell_type": "markdown",
   "metadata": {},
   "source": [
    "- The Distribution of positive and negative labels is 50/50 for both train and test set"
   ]
  },
  {
   "cell_type": "code",
   "execution_count": 7,
   "metadata": {},
   "outputs": [
    {
     "data": {
      "text/plain": [
       "0     719\n",
       "1    1857\n",
       "2     945\n",
       "3     913\n",
       "4     985\n",
       "Name: text, dtype: int64"
      ]
     },
     "execution_count": 7,
     "metadata": {},
     "output_type": "execute_result"
    }
   ],
   "source": [
    "# looking for sentence length informations\n",
    "sent_len = train_df['text'].map(lambda x: len(x))\n",
    "sent_len = pd.concat([sent_len, test_df['text'].map(lambda x: len(x))], ignore_index=True)\n",
    "sent_len.head()"
   ]
  },
  {
   "cell_type": "code",
   "execution_count": 8,
   "metadata": {},
   "outputs": [
    {
     "name": "stdout",
     "output_type": "stream",
     "text": [
      "The Maximum sentence length (words):  13704\n",
      "The Minimum sentence length (words):  32\n",
      "The Median sentence length (words):  970.0\n",
      "The Average sentence length (words):  1309.43102\n",
      "The Mode sentence length (words):  658\n",
      "95% Interval: [279.0 , 4218.0] \n"
     ]
    }
   ],
   "source": [
    "#exploring senetence lengths \n",
    "print(\"The Maximum sentence length (words): \", sent_len.max())\n",
    "print(\"The Minimum sentence length (words): \", sent_len.min())\n",
    "print(\"The Median sentence length (words): \", sent_len.median())\n",
    "print(\"The Average sentence length (words): \", sent_len.mean())\n",
    "print(\"The Mode sentence length (words): \", sent_len.mode()[0])\n",
    "print(f\"95% Interval: [{np.percentile(sent_len.values, 2.5)} , {np.percentile(sent_len.values, 97.5)}] \")"
   ]
  },
  {
   "cell_type": "code",
   "execution_count": 9,
   "metadata": {},
   "outputs": [
    {
     "data": {
      "image/png": "[encoded data removed]",
      "text/plain": [
       "<Figure size 640x480 with 1 Axes>"
      ]
     },
     "metadata": {},
     "output_type": "display_data"
    }
   ],
   "source": [
    "#graphically\n",
    "plt.hist(sent_len, bins=50, rwidth=0.8, color=\"#DC143C\")\n",
    "plt.xlabel(\"Sentence Length\")\n",
    "plt.ylabel(\"Frequency\")\n",
    "plt.show()"
   ]
  },
  {
   "cell_type": "markdown",
   "metadata": {},
   "source": [
    "- The sentence lengths vary greatly, however most of the values are between [279.0 , 4218.0]\n",
    "- Max Value: **13704**\n",
    "- Min Value: **32**\n",
    "- Average Value: **1310**"
   ]
  },
  {
   "cell_type": "code",
   "execution_count": 10,
   "metadata": {},
   "outputs": [
    {
     "data": {
      "text/plain": [
       "6506"
      ]
     },
     "execution_count": 10,
     "metadata": {},
     "output_type": "execute_result"
    }
   ],
   "source": [
    "#freeing memory\n",
    "del sent_len\n",
    "gc.collect()"
   ]
  },
  {
   "cell_type": "markdown",
   "metadata": {},
   "source": [
    "# Merging the datasets"
   ]
  },
  {
   "cell_type": "markdown",
   "metadata": {},
   "source": [
    "- The train and Test sets are splitted 50/50, however we will instead use 80% for training, 10% evaluation, 10% testing\n",
    "- 10% testing mean 5000 sentence to be evaluated, which should representative enough"
   ]
  },
  {
   "cell_type": "code",
   "execution_count": 11,
   "metadata": {},
   "outputs": [
    {
     "name": "stdout",
     "output_type": "stream",
     "text": [
      "(50000, 2)\n"
     ]
    },
    {
     "data": {
      "text/html": [
       "<div>\n",
       "<style scoped>\n",
       "    .dataframe tbody tr th:only-of-type {\n",
       "        vertical-align: middle;\n",
       "    }\n",
       "\n",
       "    .dataframe tbody tr th {\n",
       "        vertical-align: top;\n",
       "    }\n",
       "\n",
       "    .dataframe thead th {\n",
       "        text-align: right;\n",
       "    }\n",
       "</style>\n",
       "<table border=\"1\" class=\"dataframe\">\n",
       "  <thead>\n",
       "    <tr style=\"text-align: right;\">\n",
       "      <th></th>\n",
       "      <th>text</th>\n",
       "      <th>sentiment</th>\n",
       "    </tr>\n",
       "  </thead>\n",
       "  <tbody>\n",
       "    <tr>\n",
       "      <th>0</th>\n",
       "      <td>Now, I won't deny that when I purchased this o...</td>\n",
       "      <td>neg</td>\n",
       "    </tr>\n",
       "    <tr>\n",
       "      <th>1</th>\n",
       "      <td>The saddest thing about this \"tribute\" is that...</td>\n",
       "      <td>neg</td>\n",
       "    </tr>\n",
       "    <tr>\n",
       "      <th>2</th>\n",
       "      <td>Last night I decided to watch the prequel or s...</td>\n",
       "      <td>neg</td>\n",
       "    </tr>\n",
       "    <tr>\n",
       "      <th>3</th>\n",
       "      <td>I have to admit that i liked the first half of...</td>\n",
       "      <td>neg</td>\n",
       "    </tr>\n",
       "    <tr>\n",
       "      <th>4</th>\n",
       "      <td>I was not impressed about this film especially...</td>\n",
       "      <td>neg</td>\n",
       "    </tr>\n",
       "  </tbody>\n",
       "</table>\n",
       "</div>"
      ],
      "text/plain": [
       "                                                text sentiment\n",
       "0  Now, I won't deny that when I purchased this o...       neg\n",
       "1  The saddest thing about this \"tribute\" is that...       neg\n",
       "2  Last night I decided to watch the prequel or s...       neg\n",
       "3  I have to admit that i liked the first half of...       neg\n",
       "4  I was not impressed about this film especially...       neg"
      ]
     },
     "execution_count": 11,
     "metadata": {},
     "output_type": "execute_result"
    }
   ],
   "source": [
    "total_dataset = pd.concat([train_df, test_df], ignore_index=True)\n",
    "print(total_dataset.shape)\n",
    "total_dataset.head()"
   ]
  },
  {
   "cell_type": "code",
   "execution_count": 12,
   "metadata": {},
   "outputs": [
    {
     "data": {
      "text/plain": [
       "32"
      ]
     },
     "execution_count": 12,
     "metadata": {},
     "output_type": "execute_result"
    }
   ],
   "source": [
    "#freeing memory \n",
    "del train_df\n",
    "del test_df\n",
    "gc.collect()"
   ]
  },
  {
   "cell_type": "markdown",
   "metadata": {},
   "source": [
    "# Creating the Vocabulary"
   ]
  },
  {
   "cell_type": "code",
   "execution_count": 13,
   "metadata": {},
   "outputs": [],
   "source": [
    "#creating the Vocabulary of tokens while making everything lower case\n",
    "tokens = [nltk.word_tokenize(review.lower()) for review in total_dataset['text']]"
   ]
  },
  {
   "cell_type": "code",
   "execution_count": 14,
   "metadata": {},
   "outputs": [
    {
     "name": "stdout",
     "output_type": "stream",
     "text": [
      "['now', ',', 'i', 'wo', \"n't\", 'deny', 'that', 'when', 'i', 'purchased', 'this', 'off', 'ebay', ',', 'i', 'had', 'high', 'expectations', '.', 'this', 'was', 'an', 'incredible', 'out-of-print', 'work', 'from', 'the', 'master', 'of', 'comedy', 'that', 'i', 'so', 'enjoy', '.', 'however', ',', 'i', 'was', 'soon', 'to', 'be', 'disappointed', '.', 'apologies', 'to', 'those', 'who', 'enjoyed', 'it', ',', 'but', 'i', 'just', 'found', 'the', 'compleat', 'al', 'to', 'be', 'very', 'difficult', 'to', 'watch', '.', 'i', 'got', 'a', 'few', 'smiles', ',', 'sure', ',', 'but', 'the', 'majority', 'of', 'the', 'funny', 'came', 'from', 'the', 'music', 'videos', '(', 'which', 'i', \"'ve\", 'got', 'on', 'dvd', ')', 'and', 'the', 'rest', 'was', 'basically', 'filler', '.', 'you', 'could', 'tell', 'that', 'this', 'was', 'not', 'al', \"'s\", 'greatest', 'video', 'achievement', '(', 'that', 'honor', 'goes', 'to', 'uhf', ')', '.', 'honestly', ',', 'i', 'doubt', 'if', 'this', 'will', 'ever', 'make', 'the', 'jump', 'to', 'dvd', ',', 'so', 'if', 'you', \"'re\", 'an', 'ultra-hardcore', 'al', 'fan', 'and', 'just', 'have', 'to', 'own', 'everything', ',', 'buy', 'the', 'tape', 'off', 'ebay', '.', 'just', 'do', \"n't\", 'pay', 'too', 'much', 'for', 'it', '.']\n"
     ]
    }
   ],
   "source": [
    "#checking the tokens\n",
    "print(tokens[0])"
   ]
  },
  {
   "cell_type": "markdown",
   "metadata": {},
   "source": [
    "# Creating the Vector embeddings "
   ]
  },
  {
   "cell_type": "code",
   "execution_count": 15,
   "metadata": {},
   "outputs": [],
   "source": [
    "#training the word embeddings model\n",
    "model = Word2Vec(tokens, vector_size=32, min_count=1, window=10)\n",
    "model.save(\"w2vec_model\")"
   ]
  },
  {
   "cell_type": "code",
   "execution_count": 16,
   "metadata": {},
   "outputs": [
    {
     "name": "stdout",
     "output_type": "stream",
     "text": [
      "Embeddings Similarity Test: \n",
      "[('doctor', 0.847237765789032), ('soldier', 0.7906357049942017), ('priest', 0.7846134305000305), ('woman', 0.7811627388000488), ('boy', 0.7722019553184509), ('monk', 0.7717127799987793), ('scientist', 0.7643183469772339), ('hero', 0.7588308453559875), ('psychopath', 0.7411227226257324), ('loser', 0.72895747423172)]\n",
      "\n",
      "=====================\n",
      "\n",
      "Vector Embeddings look Up: \n",
      "[-1.1851404  -0.43906406  5.208872   -0.10080391  0.21599168  2.2077792\n",
      "  1.258881   -5.094253    4.9255214   0.20110843  2.018118   -1.7980326\n",
      " -0.39704356 -3.494662   -2.5181139   2.5706387   0.49877104 -2.3484836\n",
      "  3.6635792  -2.8673155   2.0696483   3.3842154   1.9215056   5.9818435\n",
      " -2.5036747   3.0751133  -3.0857756  -4.679211   -3.607103   -2.2730782\n",
      " -0.48950604 -1.398945  ]\n",
      "\n",
      "=====================\n",
      "\n",
      "Distance Embeddings Test: \n",
      "[('queen', 0.7884224057197571), ('princess', 0.7397762537002563), ('enchanted', 0.732124388217926), ('carmen', 0.7168458700180054), ('carol', 0.7081384658813477), ('hilton', 0.6999144554138184), ('planche', 0.6995160579681396), ('alice', 0.6968652009963989), ('mary', 0.6921044588088989), ('rockport', 0.6903455257415771)]\n"
     ]
    }
   ],
   "source": [
    "#testing the model\n",
    "print(\"Embeddings Similarity Test: \") \n",
    "print(model.wv.most_similar(\"man\"))\n",
    "print(\"\\n=====================\\n\")\n",
    "print(\"Vector Embeddings look Up: \")\n",
    "print(model.wv['man'])\n",
    "print(\"\\n=====================\\n\")\n",
    "print(\"Distance Embeddings Test: \")\n",
    "vec = model.wv['king'] - model.wv['man'] + model.wv['woman']\n",
    "print(model.wv.most_similar(vec))"
   ]
  },
  {
   "cell_type": "code",
   "execution_count": 17,
   "metadata": {},
   "outputs": [
    {
     "data": {
      "text/plain": [
       "164030"
      ]
     },
     "execution_count": 17,
     "metadata": {},
     "output_type": "execute_result"
    }
   ],
   "source": [
    "len(model.wv.index_to_key)"
   ]
  },
  {
   "cell_type": "markdown",
   "metadata": {},
   "source": [
    "- The word embeddings seem reasonable enough for an american centric movie related dataset\n",
    "- Each Vector is **64** dimension\n",
    "- The vocabulary contain **164 030** unique token\n",
    "- The only preprocessing done is making all reviews and tokens lower case to reduce vocab size"
   ]
  },
  {
   "cell_type": "markdown",
   "metadata": {},
   "source": [
    "# Creating the Train, Dev, and Test sets"
   ]
  },
  {
   "cell_type": "code",
   "execution_count": 18,
   "metadata": {},
   "outputs": [
    {
     "data": {
      "text/plain": [
       "32"
      ]
     },
     "execution_count": 18,
     "metadata": {},
     "output_type": "execute_result"
    }
   ],
   "source": [
    "X = total_dataset['text'].copy()\n",
    "Y = total_dataset['sentiment'].copy()\n",
    "\n",
    "del total_dataset\n",
    "gc.collect()"
   ]
  },
  {
   "cell_type": "code",
   "execution_count": 19,
   "metadata": {},
   "outputs": [],
   "source": [
    "#transforming Y labels to 0: negative, 1:positive\n",
    "Y.loc[Y == 'neg'] = 0\n",
    "Y.loc[Y == 'pos'] = 1"
   ]
  },
  {
   "cell_type": "code",
   "execution_count": 20,
   "metadata": {},
   "outputs": [
    {
     "data": {
      "text/plain": [
       "21205    0\n",
       "16253    0\n",
       "25411    1\n",
       "38082    1\n",
       "23923    0\n",
       "Name: sentiment, dtype: object"
      ]
     },
     "execution_count": 20,
     "metadata": {},
     "output_type": "execute_result"
    }
   ],
   "source": [
    "Y.sample(5)"
   ]
  },
  {
   "cell_type": "code",
   "execution_count": 21,
   "metadata": {},
   "outputs": [
    {
     "data": {
      "text/plain": [
       "714.0"
      ]
     },
     "execution_count": 21,
     "metadata": {},
     "output_type": "execute_result"
    }
   ],
   "source": [
    "#95% lenght of sequences\n",
    "np.percentile([len(token) for token in tokens], 95)"
   ]
  },
  {
   "cell_type": "code",
   "execution_count": 22,
   "metadata": {},
   "outputs": [],
   "source": [
    "# Transforming X texts into sequence of vectors for training\n",
    "X_array = []\n",
    "Y_array = []\n",
    "index = 0\n",
    "max_sequence = 714\n",
    "\n",
    "for i, text_tokenized in enumerate(tokens):\n",
    "\n",
    "    #using only 95% of the data to reduce sequence lengths \n",
    "    if len(text_tokenized) <= max_sequence:\n",
    "        X_array.append([])\n",
    "        for token in text_tokenized:\n",
    "            vector_token = model.wv[token]\n",
    "            X_array[index].append(vector_token)\n",
    "\n",
    "        #padding the rest of the sequence with 0 vectors for Conv1D and to store as Numpy Array\n",
    "        while len(X_array[index]) < max_sequence:\n",
    "            X_array[index].append(np.zeros(32))\n",
    "        \n",
    "        Y_array.append(Y[i])\n",
    "        index+=1"
   ]
  },
  {
   "cell_type": "code",
   "execution_count": 23,
   "metadata": {},
   "outputs": [
    {
     "data": {
      "text/plain": [
       "16"
      ]
     },
     "execution_count": 23,
     "metadata": {},
     "output_type": "execute_result"
    }
   ],
   "source": [
    "#freeing space\n",
    "del X\n",
    "del Y\n",
    "gc.collect()"
   ]
  },
  {
   "cell_type": "code",
   "execution_count": 24,
   "metadata": {},
   "outputs": [],
   "source": [
    "X_np = np.asarray(X_array)\n",
    "Y_np = np.asarray(Y_array)"
   ]
  },
  {
   "cell_type": "code",
   "execution_count": 25,
   "metadata": {},
   "outputs": [
    {
     "data": {
      "text/plain": [
       "32"
      ]
     },
     "execution_count": 25,
     "metadata": {},
     "output_type": "execute_result"
    }
   ],
   "source": [
    "#freeing even more needed space\n",
    "del X_array\n",
    "del Y_array\n",
    "gc.collect()"
   ]
  },
  {
   "cell_type": "code",
   "execution_count": 26,
   "metadata": {},
   "outputs": [
    {
     "name": "stdout",
     "output_type": "stream",
     "text": [
      "(47502, 714, 32)\n",
      "(47502,)\n"
     ]
    }
   ],
   "source": [
    "print(X_np.shape)\n",
    "print(Y_np.shape)"
   ]
  },
  {
   "cell_type": "code",
   "execution_count": 27,
   "metadata": {},
   "outputs": [],
   "source": [
    "#saving the final data \n",
    "np.save(\"X_data.npy\", X_np)\n",
    "np.save(\"Y_data.npy\", Y_np)"
   ]
  },
  {
   "cell_type": "code",
   "execution_count": 28,
   "metadata": {},
   "outputs": [
    {
     "data": {
      "text/plain": [
       "48"
      ]
     },
     "execution_count": 28,
     "metadata": {},
     "output_type": "execute_result"
    }
   ],
   "source": [
    "#freeing memory \n",
    "del X_np\n",
    "del Y_np\n",
    "gc.collect()"
   ]
  }
 ],
 "metadata": {
  "kernelspec": {
   "display_name": "Python 3",
   "language": "python",
   "name": "python3"
  },
  "language_info": {
   "codemirror_mode": {
    "name": "ipython",
    "version": 3
   },
   "file_extension": ".py",
   "mimetype": "text/x-python",
   "name": "python",
   "nbconvert_exporter": "python",
   "pygments_lexer": "ipython3",
   "version": "3.10.0"
  }
 },
 "nbformat": 4,
 "nbformat_minor": 2
}
